{
  "nbformat": 4,
  "nbformat_minor": 0,
  "metadata": {
    "colab": {
      "name": "Assignment 3 - Basic Python - Tiswara Adrianto.ipynb",
      "provenance": [],
      "collapsed_sections": [],
      "authorship_tag": "ABX9TyOA4/wDLXp/x7Y7l3lg8J+B",
      "include_colab_link": true
    },
    "kernelspec": {
      "name": "python3",
      "display_name": "Python 3"
    },
    "language_info": {
      "name": "python"
    }
  },
  "cells": [
    {
      "cell_type": "markdown",
      "metadata": {
        "id": "view-in-github",
        "colab_type": "text"
      },
      "source": [
        "<a href=\"https://colab.research.google.com/github/Tiswara/Dibimbing_BI_Batch3/blob/main/Assignment_3_Basic_Python_Tiswara_Adrianto.ipynb\" target=\"_parent\"><img src=\"https://colab.research.google.com/assets/colab-badge.svg\" alt=\"Open In Colab\"/></a>"
      ]
    },
    {
      "cell_type": "markdown",
      "source": [
        "# **BASIC PYTHON - BASIC**\n",
        "---"
      ],
      "metadata": {
        "id": "tsqW90jfXtvW"
      }
    },
    {
      "cell_type": "markdown",
      "source": [
        "1. Input Nama User"
      ],
      "metadata": {
        "id": "ezrRFz_LX1oE"
      }
    },
    {
      "cell_type": "code",
      "source": [
        "a = input(\"Silakan masukkan nama Anda: \")\n",
        "print(\"Nama Anda adalah:\", a)\n",
        "print(\"Halo\", a + \".\",\"Selamat datang di pembelajaran Python.\")\n"
      ],
      "metadata": {
        "colab": {
          "base_uri": "https://localhost:8080/"
        },
        "id": "YKrtKzY7YlK5",
        "outputId": "d2d2d739-be01-442a-be70-581b49b720f8"
      },
      "execution_count": null,
      "outputs": [
        {
          "output_type": "stream",
          "name": "stdout",
          "text": [
            "Silakan masukkan nama Anda: Tiswara\n",
            "Nama Anda adalah: Tiswara\n",
            "Halo Tiswara. Selamat datang di pembelajaran Python.\n"
          ]
        }
      ]
    },
    {
      "cell_type": "markdown",
      "source": [
        "2. Luas suatu ruangan"
      ],
      "metadata": {
        "id": "a1i99odeZ--o"
      }
    },
    {
      "cell_type": "code",
      "source": [
        "b= input(\"Silakan masukkan panjang ruangan dalam meter: \")\n",
        "c= input(\"Silakan masukkan lebar ruangan dalam meter: \")\n",
        "print(\"Luas ruangan adalah \" + str(int(b)*int(c)) + \" m2\")\n",
        "print(\"Luas ruangan adalah \" + str(int(b)*int(c)/10000) + \" hectare\")"
      ],
      "metadata": {
        "colab": {
          "base_uri": "https://localhost:8080/"
        },
        "id": "WDcrWZ_VfMqh",
        "outputId": "5f98f742-0e31-4231-b70c-5a05ec95f771"
      },
      "execution_count": null,
      "outputs": [
        {
          "output_type": "stream",
          "name": "stdout",
          "text": [
            "Silakan masukkan panjang ruangan dalam meter: 100\n",
            "Silakan masukkan lebar ruangan dalam meter: 200\n",
            "Luas ruangan adalah 20000 m2\n",
            "Luas ruangan adalah 2.0 hectare\n"
          ]
        }
      ]
    },
    {
      "cell_type": "markdown",
      "source": [
        "3. Jumlah dari n bilangan"
      ],
      "metadata": {
        "id": "K2j1dHkFjn6E"
      }
    },
    {
      "cell_type": "code",
      "source": [
        "n = input(\"Masukkan angka: \")\n",
        "m = 1\n",
        "hasil = 0\n",
        "while True:\n",
        "  if m <= int(n) :\n",
        "    hasil = m + hasil\n",
        "    print(m)\n",
        "    m+=1\n",
        "  else :\n",
        "    print(\"Jumlahnya = \" ,hasil)\n",
        "    break\n"
      ],
      "metadata": {
        "id": "kAelT0dbiJaO",
        "colab": {
          "base_uri": "https://localhost:8080/"
        },
        "outputId": "8665cf1f-5285-4958-9c90-b4ee89e724ff"
      },
      "execution_count": null,
      "outputs": [
        {
          "output_type": "stream",
          "name": "stdout",
          "text": [
            "Masukkan angka: 10\n",
            "1\n",
            "2\n",
            "3\n",
            "4\n",
            "5\n",
            "6\n",
            "7\n",
            "8\n",
            "9\n",
            "10\n",
            "Jumlahnya =  55\n"
          ]
        }
      ]
    },
    {
      "cell_type": "markdown",
      "source": [
        "4. Menghitung Luas segitiga"
      ],
      "metadata": {
        "id": "oXf3HTNylGJU"
      }
    },
    {
      "cell_type": "code",
      "source": [
        "import math\n",
        "Pilih = input(\"Silakan memilih mode perhitungan, ketik 1 untuk rumus biasa, ketik 2 untuk rumus heron: \")\n",
        "if Pilih == \"1\":\n",
        "  alas = input(\"Masukkan besar nilai alas segitiga: \")\n",
        "  tinggi = input(\"Masukkan besar nilai tinggi segitiga: \")\n",
        "  Luas = 0.5*int(alas)*int(tinggi)\n",
        "  print(\"Luas segitiga sebesar: \", Luas)\n",
        "elif Pilih == \"2\":\n",
        "  a = input(\"Masukkan panjang sisi a: \")\n",
        "  b = input(\"Masukkan panjang sisi b: \")\n",
        "  c = input(\"Masukkan panjang sisi c: \")\n",
        "  s = 0.5*(int(a)+int(b)+int(c))\n",
        "  Luas = math.sqrt(s*(s-int(a))*(s-int(b))*(s-int(c)))\n",
        "  print(Luas)\n",
        "else :\n",
        "  print(\"Pilihan anda tidak dimengerti\")"
      ],
      "metadata": {
        "colab": {
          "base_uri": "https://localhost:8080/"
        },
        "id": "GZf7dirmlNTc",
        "outputId": "cbd80df3-f0f9-465f-adbf-1e3a5358bdf4"
      },
      "execution_count": null,
      "outputs": [
        {
          "output_type": "stream",
          "name": "stdout",
          "text": [
            "Silakan memilih mode perhitungan, ketik 1 untuk rumus biasa, ketik 2 untuk rumus heron: 2\n",
            "Masukkan panjang sisi a: 10\n",
            "Masukkan panjang sisi b: 10\n",
            "Masukkan panjang sisi c: 10\n",
            "43.30127018922193\n"
          ]
        }
      ]
    },
    {
      "cell_type": "markdown",
      "source": [
        "5. Magnitude Gempa"
      ],
      "metadata": {
        "id": "G_UVn9bR2D9f"
      }
    },
    {
      "cell_type": "code",
      "source": [
        "SR = input(\"Masukkan nilai besar skala richter gempa: \")\n",
        "if float(SR) < 2.0:\n",
        "  print(\"Micro Earthquake\");\n",
        "elif  2.0 <= float(SR) < 3.0:\n",
        "  print(\"Minor 1 Earthquake\")\n",
        "elif  3.0 <= float(SR) < 4.0:\n",
        "  print(\"Minor 2 Earthquake\")\n",
        "elif  4.0 <= float(SR) < 5.0:\n",
        "  print(\"Light Earthquake\")\n",
        "elif  5.0 <= float(SR) < 6.0:\n",
        "  print(\"Moderate Earthquake\")\n",
        "elif  6.0 <= float(SR) < 7.0:\n",
        "  print(\"Strong Earthquake\")\n",
        "elif  7.0 <= float(SR) < 8.0:\n",
        "  print(\"Major Earthquake\")\n",
        "elif  8.0 <= float(SR) < 9.0:\n",
        "  print(\"Great 1 Earthquake\")\n",
        "elif  9.0 <= float(SR) < 10.0:\n",
        "  print(\"Great 2 Earthquake\")\n",
        "else:\n",
        "  print(\"Massive Earthquake\")"
      ],
      "metadata": {
        "colab": {
          "base_uri": "https://localhost:8080/"
        },
        "id": "ITfDGqY52F2E",
        "outputId": "131c8e39-6cf8-4000-a0ac-af00171fea41"
      },
      "execution_count": null,
      "outputs": [
        {
          "output_type": "stream",
          "name": "stdout",
          "text": [
            "Masukkan nilai besar skala richter gempa: 4\n",
            "Light Earthquake\n"
          ]
        }
      ]
    },
    {
      "cell_type": "markdown",
      "source": [
        "# BASIC PYTHON - ADVANCED\n",
        "---\n"
      ],
      "metadata": {
        "id": "t9FoIj5i-Bk5"
      }
    },
    {
      "cell_type": "code",
      "source": [
        "#Import library\n",
        "\n",
        "import pandas as pd\n",
        "import numpy as np\n",
        "import matplotlib.pyplot as plt\n",
        "plt.rcParams['figure.figsize'] = [12,12]\n",
        "\n",
        "\n",
        "import seaborn as sns\n",
        "\n",
        "sns.set(style='whitegrid')\n",
        "sns.set_palette(\"bright\")\n",
        "\n",
        "%matplotlib inline\n",
        "%config InlineBackend.figure_format = 'retina'"
      ],
      "metadata": {
        "id": "UCKXul1pCNTS"
      },
      "execution_count": 20,
      "outputs": []
    },
    {
      "cell_type": "markdown",
      "source": [
        "1. Visualisasi Data"
      ],
      "metadata": {
        "id": "cTqupwWq6tMf"
      }
    },
    {
      "cell_type": "code",
      "source": [
        "df = pd.read_csv(\"https://raw.githubusercontent.com/hadimaster65555/dataset_for_teaching/main/dataset/linear_regression_simulation_data/linear-regression.csv\")\n",
        "df = df.T.reset_index().T.reset_index(drop=True)\n",
        "\n",
        "df.columns  = [\"X\",\"Y\"]\n",
        "\n",
        "df[\"X\"] = df['X'].astype(float)\n",
        "df[\"Y\"] = df[\"Y\"].astype(float)\n",
        "\n",
        "plt.scatter(df.X,df.Y,label=\"random data\")\n",
        "plt.legend(loc=\"upper left\");"
      ],
      "metadata": {
        "colab": {
          "base_uri": "https://localhost:8080/",
          "height": 265
        },
        "id": "5Lrv3cY2EK2y",
        "outputId": "434976d9-8ef0-4c52-af95-508330f8879e"
      },
      "execution_count": 24,
      "outputs": [
        {
          "output_type": "display_data",
          "data": {
            "text/plain": [
              "<Figure size 432x288 with 1 Axes>"
            ],
            "image/png": "[encoded data removed]"
          },
          "metadata": {
            "needs_background": "light"
          }
        }
      ]
    },
    {
      "cell_type": "markdown",
      "source": [
        "2. Metode Invers Matrix"
      ],
      "metadata": {
        "id": "_rxJZGoDHcCh"
      }
    },
    {
      "cell_type": "code",
      "source": [
        "X = df.X.values\n",
        "y = df.Y.values\n",
        "\n",
        "X_mat=np.vstack((np.ones(len(X)), X)).T\n",
        "beta_hat = np.linalg.inv(X_mat.T.dot(X_mat)).dot(X_mat.T).dot(y)\n",
        "\n",
        "# Menggunakan koefisien\n",
        "yhat = X_mat.dot(beta_hat)\n",
        "\n",
        "# Plot dan prediksi\n",
        "plt.scatter(X, y,label=\"data\")\n",
        "plt.plot(X, yhat, color='red',label=\"fitted line\")\n",
        "\n",
        "# Menambah teks pada x=0.25 dan y=3, berukuran 14 dan berwarna biru\n",
        "plt.text(0.25,3, r\"$\\beta_0 = 3.99187633$\", fontsize=14, color=\"b\")\n",
        "\n",
        "# Menambah teks pada x=0.25 dan y=2, berukuran 14 dan berwarna blue\n",
        "plt.text(0.25,2, r\"$\\beta_1 = 2.98060191$\", fontsize=14, color=\"b\")\n",
        "plt.legend()\n",
        "\n",
        "beta_hat"
      ],
      "metadata": {
        "id": "gnxZcuoQHgv9"
      },
      "execution_count": null,
      "outputs": []
    },
    {
      "cell_type": "markdown",
      "source": [
        "3. Menghitung Regresi Linear"
      ],
      "metadata": {
        "id": "s0hEJwzhLCW_"
      }
    },
    {
      "cell_type": "code",
      "source": [
        "# Koordinat X\n",
        "x = df.X\n",
        "A = np.array([x, np.ones(x.shape[0])])\n",
        "\n",
        "# Koordinat Y\n",
        "y = df.Y\n",
        "\n",
        "# Parameter\n",
        "w = np.linalg.lstsq(A.T, y, rcond=None)[0]\n",
        "print(w)\n",
        "\n",
        "line = w[0]*x + w[1]  # Garis regresu\n",
        "plt.plot(x, line, 'r-',label=\"fitted line\")\n",
        "plt.plot(x, y, 'o',label='data')\n",
        "# Menambah teks pada x=0.25 dan y=3, berukuran 12 dan berwarna biru\n",
        "plt.text(0.25,3, r\"$\\beta_1 = 3.99187633$\", fontsize=14, color=\"b\")\n",
        "# Menambah teks pada x=0.25 dan y=3, berukuran 14 dan berwarna blue\n",
        "plt.text(0.25,2, r\"$\\beta_0 = 2.98060191$\", fontsize=14, color=\"b\")\n",
        "plt.legend()\n",
        "plt.show()"
      ],
      "metadata": {
        "id": "LATPehG-LFBr"
      },
      "execution_count": null,
      "outputs": []
    }
  ]
}